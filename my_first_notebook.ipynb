{
 "cells": [
  {
   "cell_type": "code",
   "execution_count": 2,
   "id": "e5a5bf9d",
   "metadata": {},
   "outputs": [
    {
     "data": {
      "text/plain": [
       "2"
      ]
     },
     "execution_count": 2,
     "metadata": {},
     "output_type": "execute_result"
    }
   ],
   "source": [
    "1+1"
   ]
  },
  {
   "cell_type": "code",
   "execution_count": 3,
   "id": "1e15416b",
   "metadata": {},
   "outputs": [
    {
     "name": "stdout",
     "output_type": "stream",
     "text": [
      "Hello Clarise\n"
     ]
    }
   ],
   "source": [
    "print(\"Hello Clarise\")"
   ]
  },
  {
   "cell_type": "code",
   "execution_count": 4,
   "id": "3fcd3c52",
   "metadata": {},
   "outputs": [
    {
     "name": "stdout",
     "output_type": "stream",
     "text": [
      "Help on ZMQExitAutocall in module IPython.core.autocall object:\n",
      "\n",
      "class ZMQExitAutocall(ExitAutocall)\n",
      " |  ZMQExitAutocall(ip=None)\n",
      " |  \n",
      " |  Exit IPython. Autocallable, so it needn't be explicitly called.\n",
      " |  \n",
      " |  Parameters\n",
      " |  ----------\n",
      " |  keep_kernel : bool\n",
      " |    If True, leave the kernel alive. Otherwise, tell the kernel to exit too\n",
      " |    (default).\n",
      " |  \n",
      " |  Method resolution order:\n",
      " |      ZMQExitAutocall\n",
      " |      ExitAutocall\n",
      " |      IPyAutocall\n",
      " |      builtins.object\n",
      " |  \n",
      " |  Methods defined here:\n",
      " |  \n",
      " |  __call__(self, keep_kernel=False)\n",
      " |      Call self as a function.\n",
      " |  \n",
      " |  ----------------------------------------------------------------------\n",
      " |  Data and other attributes inherited from ExitAutocall:\n",
      " |  \n",
      " |  rewrite = False\n",
      " |  \n",
      " |  ----------------------------------------------------------------------\n",
      " |  Methods inherited from IPyAutocall:\n",
      " |  \n",
      " |  __init__(self, ip=None)\n",
      " |      Initialize self.  See help(type(self)) for accurate signature.\n",
      " |  \n",
      " |  set_ip(self, ip)\n",
      " |      Will be used to set _ip point to current ipython instance b/f call\n",
      " |      \n",
      " |      Override this method if you don't want this to happen.\n",
      " |  \n",
      " |  ----------------------------------------------------------------------\n",
      " |  Data descriptors inherited from IPyAutocall:\n",
      " |  \n",
      " |  __dict__\n",
      " |      dictionary for instance variables (if defined)\n",
      " |  \n",
      " |  __weakref__\n",
      " |      list of weak references to the object (if defined)\n",
      "\n"
     ]
    }
   ],
   "source": [
    "help(exit)"
   ]
  },
  {
   "cell_type": "code",
   "execution_count": 3,
   "id": "7f5043a6",
   "metadata": {},
   "outputs": [
    {
     "name": "stdout",
     "output_type": "stream",
     "text": [
      "keyboard shortcuts are really cool\n",
      "if one were to learn a few, it would enable them to move around the IDE more quickly\n"
     ]
    }
   ],
   "source": [
    "print(\"keyboard shortcuts are really cool\")\n",
    "print(\"if one were to learn a few, it would enable them to move around the IDE more quickly\")"
   ]
  },
  {
   "cell_type": "code",
   "execution_count": 5,
   "id": "0fbc7ed6",
   "metadata": {},
   "outputs": [
    {
     "name": "stdout",
     "output_type": "stream",
     "text": [
      "I am using VS code until I find a reason to code back to Jupyter Notebook.\n",
      "Here are a few shortcuts that I will probably need to learn and use:\n",
      "#1) ctrl + enter will run the current cell the user is running in\n",
      "#2) ctrl + shift + enter will every cell prior to the currently in use cell\n",
      "#3) The escape key moves the user from within a cell to \"command mode\". When in command mode,\n",
      "the user can move quickly between cells by hitting the arrow keys. \n",
      "#4) When the user wants to type in, or interact with a cell, he hits the enter key\n",
      "#5) When in command mode, the user can create new cells quickly with a simple press of a key.\n",
      "The 'A' key will produce a new cell above the one which is highlighted. The 'B' key will\n",
      "produce a new cell below the highlighted cell. \n"
     ]
    }
   ],
   "source": [
    "print(\"\"\"I am using VS code until I find a reason to code back to Jupyter Notebook.\n",
    "Here are a few shortcuts that I will probably need to learn and use:\n",
    "#1) ctrl + enter will run the current cell the user is running in\n",
    "#2) ctrl + shift + enter will every cell prior to the currently in use cell\n",
    "#3) The escape key moves the user from within a cell to \"command mode\". When in command mode,\n",
    "the user can move quickly between cells by hitting the arrow keys. \n",
    "#4) When the user wants to type in, or interact with a cell, he hits the enter key\n",
    "#5) When in command mode, the user can create new cells quickly with a simple press of a key.\n",
    "The 'A' key will produce a new cell above the one which is highlighted. The 'B' key will\n",
    "produce a new cell below the highlighted cell. \"\"\")"
   ]
  },
  {
   "cell_type": "code",
   "execution_count": 6,
   "id": "f847753e",
   "metadata": {},
   "outputs": [
    {
     "data": {
      "text/plain": [
       "1"
      ]
     },
     "execution_count": 6,
     "metadata": {},
     "output_type": "execute_result"
    }
   ],
   "source": [
    "x"
   ]
  },
  {
   "cell_type": "code",
   "execution_count": null,
   "id": "0a520237",
   "metadata": {},
   "outputs": [],
   "source": []
  }
 ],
 "metadata": {
  "kernelspec": {
   "display_name": "Python 3.10.5 64-bit ('3.10.5')",
   "language": "python",
   "name": "python3"
  },
  "language_info": {
   "codemirror_mode": {
    "name": "ipython",
    "version": 3
   },
   "file_extension": ".py",
   "mimetype": "text/x-python",
   "name": "python",
   "nbconvert_exporter": "python",
   "pygments_lexer": "ipython3",
   "version": "3.10.5"
  },
  "vscode": {
   "interpreter": {
    "hash": "56303d30c5bc2a17573a838fd8ae58e3da0404f4ffb7a01a014cd824796879a8"
   }
  }
 },
 "nbformat": 4,
 "nbformat_minor": 5
}
